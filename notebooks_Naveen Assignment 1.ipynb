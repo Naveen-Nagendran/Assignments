{
  "metadata": {
    "language_info": {
      "codemirror_mode": {
        "name": "python",
        "version": 3
      },
      "file_extension": ".py",
      "mimetype": "text/x-python",
      "name": "python",
      "nbconvert_exporter": "python",
      "pygments_lexer": "ipython3",
      "version": "3.8"
    },
    "kernelspec": {
      "name": "python",
      "display_name": "Pyolite",
      "language": "python"
    }
  },
  "nbformat_minor": 4,
  "nbformat": 4,
  "cells": [
    {
      "cell_type": "markdown",
      "source": "Q1.   *,-,/,+ = Expressions\n      'hello', -87.8,6 = Values\n      \nQ2.   Str - Any information with single or double quotes is called string. Eg: \"This is my assignment 1\"\n      Variable - Storage of information is called variable. Eg: X=10, Here X is a variable.\n      \nQ3.   Int- It is a numbers with negative, 0 and positive numbers. Eg: ..-2,-1,0,1,2..\n      Float- All decimal numbers are float. Eg: 1.1567\n      Str- Any information with single or double quotes is called string. Eg: \"This is my assignment 1\"\n\nQ4.   Expression is a combination of operators and operands. It is interpreted to produce some other value. \n      Eg. 6+24. Here, it evaluates a value 30. Operator: + and Operands: 6,24.\n      \nQ5.   Spam = 10\n      Value 10 is assigned to vairable spam so it is called statement \n      Spam = 10, Here variable is an expression because it denotes a value in memory \n      \nQ6.   23\n\nQ7.   'spam'+'spamspam' = 'spamspamspam'\n      'spam'*3          = 'spamspamspam' \n      \nQ8.    100 is invalid because variable names cannot begin with numbers.   \n\nQ9.    Int(),Float(),String()\n\nQ10.  'I have eaten'+'99'+ 'burritos'\n\n",
      "metadata": {}
    },
    {
      "cell_type": "code",
      "source": "bacon = 22\nbacon + 1",
      "metadata": {
        "trusted": true
      },
      "execution_count": 17,
      "outputs": [
        {
          "execution_count": 17,
          "output_type": "execute_result",
          "data": {
            "text/plain": "23"
          },
          "metadata": {}
        }
      ]
    },
    {
      "cell_type": "code",
      "source": "'I have eaten'+'99'+ 'burritos'",
      "metadata": {
        "trusted": true
      },
      "execution_count": 63,
      "outputs": [
        {
          "execution_count": 63,
          "output_type": "execute_result",
          "data": {
            "text/plain": "'I have eaten99burritos'"
          },
          "metadata": {}
        }
      ]
    },
    {
      "cell_type": "code",
      "source": "'spam'+'spamspam'",
      "metadata": {
        "trusted": true
      },
      "execution_count": 65,
      "outputs": [
        {
          "execution_count": 65,
          "output_type": "execute_result",
          "data": {
            "text/plain": "'spamspamspam'"
          },
          "metadata": {}
        }
      ]
    },
    {
      "cell_type": "code",
      "source": "",
      "metadata": {},
      "execution_count": null,
      "outputs": []
    }
  ]
}