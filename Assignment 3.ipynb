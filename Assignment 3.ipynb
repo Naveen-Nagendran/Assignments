{
 "cells": [
  {
   "cell_type": "markdown",
   "id": "742c4252",
   "metadata": {},
   "source": [
    "1. Why are functions advantageous to have in your programs?\n",
    "    We can call fuction multiple times for the similar output\n",
    "   \n",
    "2. When does the code in a function run: when its specified or when its called?\n",
    "    function will run when we call\n",
    "\n",
    "3. What statement creates a function?\n",
    "    def, object, module and statement\n",
    "    eg: def bacon(spam):          \n",
    "    \n",
    "4. What is the difference between a function and a function call?\n",
    "    Function is used to perform certain task and when we need to repeat or reuse the same task again we can recall the same function is called function call.\n",
    "   \n",
    "5. How many global scopes are there in a Python program? How many local scopes?\n",
    "    There are only one local and global scope in the python\n",
    "\n",
    "6. What happens to variables in a local scope when the function call returns?\n",
    "    It is called local variable and when we call it will come as output\n",
    "    \n",
    "7. What is the concept of a return value? Is it possible to have a return value in an expression?\n",
    "    It will return value from the fuction we call. Yes, it is possible to have a return value in an expression.\n",
    "    \n",
    "8. If a function does not have a return statement, what is the return value of a call to that function?\n",
    "    It will neither give error nor output but function will run\n",
    "\n",
    "9. How do you make a function variable refer to the global variable?\n",
    "    Assigning value to the variable on top of the function refer to the global variable\n",
    "    \n",
    "10. What is the data type of None?\n",
    "    It is nethier true nor false. None is just none\n",
    "    \n",
    "11. What does the sentence import areallyourpetsnamederic do?\n",
    "    ModuleNotFoundError: No module named 'areallyourpetsnamederic'\n",
    "    \n",
    "12. If you had a bacon() feature in a spam module, what would you call it after importing spam?\n",
    "    I cant understand this question please explain.\n",
    "\n",
    "13. What can you do to save a programme from crashing if it encounters an error?\n",
    "    Stop\n",
    "    \n",
    "14. What is the purpose of the try clause? What is the purpose of the except clause?\n",
    "    Purpose is further code execution will not stop "
   ]
  }
 ],
 "metadata": {
  "kernelspec": {
   "display_name": "Python 3 (ipykernel)",
   "language": "python",
   "name": "python3"
  },
  "language_info": {
   "codemirror_mode": {
    "name": "ipython",
    "version": 3
   },
   "file_extension": ".py",
   "mimetype": "text/x-python",
   "name": "python",
   "nbconvert_exporter": "python",
   "pygments_lexer": "ipython3",
   "version": "3.9.12"
  }
 },
 "nbformat": 4,
 "nbformat_minor": 5
}
