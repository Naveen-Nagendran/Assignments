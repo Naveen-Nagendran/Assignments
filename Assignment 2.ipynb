{
 "cells": [
  {
   "cell_type": "markdown",
   "id": "aea48d06",
   "metadata": {},
   "source": [
    "s='naveen'"
   ]
  },
  {
   "cell_type": "code",
   "execution_count": 2,
   "id": "dba2823f",
   "metadata": {},
   "outputs": [
    {
     "data": {
      "text/plain": [
       "'naveen'"
      ]
     },
     "execution_count": 2,
     "metadata": {},
     "output_type": "execute_result"
    }
   ],
   "source": [
    "s"
   ]
  },
  {
   "cell_type": "code",
   "execution_count": 3,
   "id": "f3a4785f",
   "metadata": {},
   "outputs": [
    {
     "data": {
      "text/plain": [
       "True"
      ]
     },
     "execution_count": 3,
     "metadata": {},
     "output_type": "execute_result"
    }
   ],
   "source": [
    "s.islower()"
   ]
  },
  {
   "cell_type": "code",
   "execution_count": 4,
   "id": "bcb76901",
   "metadata": {},
   "outputs": [
    {
     "data": {
      "text/plain": [
       "False"
      ]
     },
     "execution_count": 4,
     "metadata": {},
     "output_type": "execute_result"
    }
   ],
   "source": [
    "s.isupper()"
   ]
  },
  {
   "cell_type": "markdown",
   "id": "12fd4517",
   "metadata": {},
   "source": [
    "Q2. AND,OR,NOT are three different operators\n"
   ]
  },
  {
   "cell_type": "markdown",
   "id": "c65f73d9",
   "metadata": {},
   "source": [
    "Q3. Three differetn operators have been used here to extract the values from dict."
   ]
  },
  {
   "cell_type": "code",
   "execution_count": 6,
   "id": "e4d3767a",
   "metadata": {},
   "outputs": [
    {
     "name": "stdout",
     "output_type": "stream",
     "text": [
      "dict_values(['value', '1234', 'new'])\n"
     ]
    }
   ],
   "source": [
    "d={'key1':'value','key2':'1234','key3':'new'}\n",
    "if d['key1'] == 'value' and d['key2'] !='1234' :\n",
    "    print(\"Vales are correct\")\n",
    "elif d['key3'] != 'new' or d['key2'] == '4567':\n",
    "        print(\"either of the values are correct in statement 2\")\n",
    "else:\n",
    "    print(d.values())"
   ]
  },
  {
   "cell_type": "markdown",
   "id": "00c5151a",
   "metadata": {},
   "source": [
    "(5 > 4) and (3 == 5)                False\n",
    "not (5 > 4)                         False\n",
    "(5 > 4) or (3 == 5)                 True\n",
    "not ((5 > 4) or (3 == 5))           False\n",
    "(True and True) and (True == False) False\n",
    "(not False) or (not True)           True"
   ]
  },
  {
   "cell_type": "code",
   "execution_count": null,
   "id": "6a865fed",
   "metadata": {},
   "outputs": [],
   "source": [
    "< , > ,= ,!= , >= ,<="
   ]
  },
  {
   "cell_type": "code",
   "execution_count": 12,
   "id": "6e3c3f21",
   "metadata": {},
   "outputs": [
    {
     "name": "stdout",
     "output_type": "stream",
     "text": [
      "ham\n",
      "spam\n",
      "spam\n"
     ]
    }
   ],
   "source": [
    "spam = 0\n",
    "if spam == 10:\n",
    "    print('eggs')\n",
    "if spam > 5:\n",
    "        print('bacon')\n",
    "else:\n",
    "    print('ham')\n",
    "    print('spam')\n",
    "    print('spam')"
   ]
  },
  {
   "cell_type": "code",
   "execution_count": 24,
   "id": "ae4676fd",
   "metadata": {},
   "outputs": [
    {
     "name": "stdout",
     "output_type": "stream",
     "text": [
      "Hello\n",
      "Howdy\n",
      "Greetings!\n"
     ]
    }
   ],
   "source": [
    "spam = [1,2,44]\n",
    "for i in spam :\n",
    "    if i == 1 :\n",
    "        print (\"Hello\") \n",
    "    elif i == 2 :\n",
    "        print (\"Howdy\")\n",
    "    else:\n",
    "        print(\"Greetings!\")\n"
   ]
  },
  {
   "cell_type": "code",
   "execution_count": 30,
   "id": "6026e93c",
   "metadata": {},
   "outputs": [
    {
     "name": "stdout",
     "output_type": "stream",
     "text": [
      "Enter the spam value = 2\n",
      "Howdy\n"
     ]
    }
   ],
   "source": [
    "spam = int(input(\"Enter the spam value = \"))\n",
    "if spam == 1 :\n",
    "        print (\"Hello\") \n",
    "elif spam == 2 :\n",
    "        print (\"Howdy\")\n",
    "else:\n",
    "        print(\"Greetings!\")"
   ]
  },
  {
   "cell_type": "code",
   "execution_count": null,
   "id": "9e686890",
   "metadata": {},
   "outputs": [],
   "source": [
    "9. Restart kernel\n",
    "\n",
    "10. Break:\n",
    "     It is a statement where the loop gets break the current loop and continue with next loop or main body\n",
    "    Continue:\n",
    "     It is a statement where the loop gets skip for the current iteration and goes to the next iteration\n",
    "    \n",
    "11. In a for loop, what is the difference between range(10), range(0, 10), and range(0, 10, 1)?\n",
    "        range(10) & range(0, 10) = Both are same. The value O is start value and 10 is range of numbers except 10. And it extracts the list of numbers like (0,1,2,3,4,5,6,7,8,9). \n",
    "        range(0, 10, 1) - Start-0 Stop-10 Step-1 eg. (0,1,2,3,4,5,6,7,8,9)\n",
    "\n",
    "12. Write a short program that prints the numbers 1 to 10 using a for loop. Then write an equivalent\n",
    "program that prints the numbers 1 to 10 using a while loop.\n",
    "    l=[]\n",
    "    n=int(input(\"Enter range: \"))\n",
    "    for i in range(n):\n",
    "        l.append(i)\n",
    "    print(l)\n",
    "    \n",
    "    l=[]\n",
    "    n=int(input(\"Enter range: \"))\n",
    "    i=0\n",
    "    while i <=n:\n",
    "        l.append(i)\n",
    "        i=i+1\n",
    "    print(l)\n",
    "    \n",
    "13.If you had a function named bacon() inside a module named spam, how would you call it after\n",
    "importing spam?\n",
    "   Ans: bacon(spam)"
   ]
  }
 ],
 "metadata": {
  "kernelspec": {
   "display_name": "Python 3 (ipykernel)",
   "language": "python",
   "name": "python3"
  },
  "language_info": {
   "codemirror_mode": {
    "name": "ipython",
    "version": 3
   },
   "file_extension": ".py",
   "mimetype": "text/x-python",
   "name": "python",
   "nbconvert_exporter": "python",
   "pygments_lexer": "ipython3",
   "version": "3.9.12"
  }
 },
 "nbformat": 4,
 "nbformat_minor": 5
}
