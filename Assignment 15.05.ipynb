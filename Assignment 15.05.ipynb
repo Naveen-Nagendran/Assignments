{
  "metadata": {
    "language_info": {
      "codemirror_mode": {
        "name": "python",
        "version": 3
      },
      "file_extension": ".py",
      "mimetype": "text/x-python",
      "name": "python",
      "nbconvert_exporter": "python",
      "pygments_lexer": "ipython3",
      "version": "3.8"
    },
    "kernelspec": {
      "name": "python",
      "display_name": "Pyolite",
      "language": "python"
    }
  },
  "nbformat_minor": 4,
  "nbformat": 4,
  "cells": [
    {
      "cell_type": "markdown",
      "source": "1. s= 'this is My First Python programming class and i am learNING python string and its function'\n\n    s[1:300:3]\n    'h   r tnrrmglsnimeNGyosi dtfco'\n    \n2.   s[::-1]\n    'noitcnuf sti dna gnirts nohtyp GNINrael ma i dna ssalc gnimmargorp nohtyP tsriF yM si siht'\n    \n3.   s.upper()\n     'THIS IS MY FIRST PYTHON PROGRAMMING CLASS AND I AM LEARNING PYTHON STRING AND ITS FUNCTION'\n      s.split(' ')\n        ['this',\n         'is',\n         'My',\n         'First',\n         'Python',\n         'programming',\n         'class',\n         'and',\n         'i',\n         'am',\n         'learNING',\n         'python',\n         'string',\n         'and',\n         'its',\n         'function']\n         \n  4.    s.lower()\n        'this is my first python programming class and i am learning python string and its function'\n        \n  5.    s.capitalize()\n        'This is my first python programming class and i am learning python string and its function'\n        \n  6.    s1 = 'thisisnaven'\n        s1.isalnum()\n        Above condition is true because it is alphanumberic there is no space or special charecters. \n        s1 = \"naveen n\"\n        s1.isalpha()\n        Above condition is false because it is not alpha, there is space inbetween alphabets. So the        statement is false.\n  \n  7.    s = 'th\\tis is M\\ty First Pyt\\thon progra\\tmming cl\\tass and i a\\tm learNING python str\\ting and its             func\\ttion'\n        s.expandtabs()\n        'th      is is M y First Pyt     hon progra      mming cl        ass and i a     m learNING python str            ing and its func        tion'\n  \n  8.    s= '   this is My First Python programming class and i am learNING python string and its function   '\n       s.strip()\n       'this is My First Python programming class and i am learNING python string and its function'\n        s.lstrip()\n        'this is My First Python programming class and i am learNING python string and its function   '\n        s.rstrip()\n        s.rstrip()\n        '   this is My First Python programming class and i am learNING python string and its function'\n        \n  9.   s1 = 'this is sujithra'\n        x = s1.replace(\"sujithra\",\"shanav\")\n        print(x)\n        this is shanav\n        \n  10.   s = \"this is my first assignement\"        \n        len(s)\n        28\n        s.center(40, \"#\")\n        '######this is my first assignement######'\n    \n  11.   Interpreter - its job is to just analyze and execute the code line by line since Python3 or python is   installed in the system. No high level language is required.\n       Compilor - it's work is to convert source code to machine readable language (High level language),only   then the languages like C, C++ can excute the code.\n       \n 12.   Python is intrepretated language because it will read codes line by line from the human based language to machine readable language.\n \n 13.    Python will be used for big data analytics, app & web developments, testing purpose, machine learning.\n \n \n        \n      ",
      "metadata": {}
    },
    {
      "cell_type": "code",
      "source": "",
      "metadata": {},
      "execution_count": null,
      "outputs": []
    }
  ]
}